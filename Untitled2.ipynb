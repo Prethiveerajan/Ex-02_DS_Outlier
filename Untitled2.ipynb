{
 "cells": [
  {
   "cell_type": "code",
   "execution_count": null,
   "id": "e72d77d0-18a1-4406-ba7a-04a04f690861",
   "metadata": {},
   "outputs": [],
   "source": [
    "from sklearn.preprocessing import LabelEncoder,OrdinalEncoder"
   ]
  },
  {
   "cell_type": "code",
   "execution_count": null,
   "id": "12e3f7ab-24ff-402c-b0a1-ca75bcb9de43",
   "metadata": {},
   "outputs": [],
   "source": [
    "oe= OrdinalEncoder()"
   ]
  },
  {
   "cell_type": "code",
   "execution_count": null,
   "id": "1c791a28-a812-4321-affc-5f056e685e63",
   "metadata": {},
   "outputs": [],
   "source": [
    "oe.fit_transform(df[[\"Ord_1\"]])"
   ]
  },
  {
   "cell_type": "code",
   "execution_count": null,
   "id": "9a1047bf-252d-4854-afb1-8b07ebc7d59b",
   "metadata": {},
   "outputs": [],
   "source": []
  }
 ],
 "metadata": {
  "kernelspec": {
   "display_name": "Python 3 (ipykernel)",
   "language": "python",
   "name": "python3"
  },
  "language_info": {
   "codemirror_mode": {
    "name": "ipython",
    "version": 3
   },
   "file_extension": ".py",
   "mimetype": "text/x-python",
   "name": "python",
   "nbconvert_exporter": "python",
   "pygments_lexer": "ipython3",
   "version": "3.8.12"
  }
 },
 "nbformat": 4,
 "nbformat_minor": 5
}
